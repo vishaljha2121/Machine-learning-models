{
 "cells": [
  {
   "cell_type": "code",
   "execution_count": 1,
   "metadata": {},
   "outputs": [],
   "source": [
    "from sklearn.datasets import make_classification"
   ]
  },
  {
   "cell_type": "code",
   "execution_count": 2,
   "metadata": {},
   "outputs": [],
   "source": [
    "X, Y = make_classification(n_samples=1000,n_classes=2,n_features=5,n_redundant=0,random_state=1)"
   ]
  },
  {
   "cell_type": "code",
   "execution_count": 3,
   "metadata": {},
   "outputs": [
    {
     "data": {
      "text/plain": [
       "((1000, 5), (1000,))"
      ]
     },
     "execution_count": 3,
     "metadata": {},
     "output_type": "execute_result"
    }
   ],
   "source": [
    "X.shape, Y.shape"
   ]
  },
  {
   "cell_type": "code",
   "execution_count": 4,
   "metadata": {},
   "outputs": [],
   "source": [
    "from sklearn.model_selection import train_test_split"
   ]
  },
  {
   "cell_type": "code",
   "execution_count": 5,
   "metadata": {},
   "outputs": [],
   "source": [
    "X_train,X_test,Y_train,Y_test = train_test_split(X,Y,test_size=0.2)"
   ]
  },
  {
   "cell_type": "code",
   "execution_count": 6,
   "metadata": {},
   "outputs": [
    {
     "data": {
      "text/plain": [
       "((800, 5), (800,))"
      ]
     },
     "execution_count": 6,
     "metadata": {},
     "output_type": "execute_result"
    }
   ],
   "source": [
    "X_train.shape,Y_train.shape"
   ]
  },
  {
   "cell_type": "code",
   "execution_count": 7,
   "metadata": {},
   "outputs": [
    {
     "data": {
      "text/plain": [
       "((200, 5), (200,))"
      ]
     },
     "execution_count": 7,
     "metadata": {},
     "output_type": "execute_result"
    }
   ],
   "source": [
    "X_test.shape,Y_test.shape"
   ]
  },
  {
   "cell_type": "code",
   "execution_count": 8,
   "metadata": {},
   "outputs": [],
   "source": [
    "import pandas as pd\n",
    "\n",
    "from sklearn.neural_network import MLPClassifier\n",
    "from sklearn.neighbors import KNeighborsClassifier\n",
    "from sklearn.svm import SVC\n",
    "from sklearn.gaussian_process import GaussianProcessClassifier\n",
    "from sklearn.ensemble import GradientBoostingClassifier\n",
    "from sklearn.gaussian_process.kernels import RBF\n",
    "from sklearn.tree import DecisionTreeClassifier\n",
    "from sklearn.ensemble import ExtraTreesClassifier\n",
    "from sklearn.ensemble import RandomForestClassifier, AdaBoostClassifier\n",
    "from sklearn.naive_bayes import GaussianNB\n",
    "from sklearn.discriminant_analysis import QuadraticDiscriminantAnalysis\n",
    "from sklearn.linear_model import SGDClassifier\n"
   ]
  },
  {
   "cell_type": "code",
   "execution_count": 9,
   "metadata": {},
   "outputs": [],
   "source": [
    "names = [\"Nearest_Neighbors\", \"Linear_SVM\", \"Polynomial_SVM\", \"RBF_SVM\", \"Gaussian_Process\",\n",
    "         \"Gradient_Boosting\", \"Decision_Tree\", \"Extra_Trees\", \"Random_Forest\", \"Neural_Net\", \"AdaBoost\",\n",
    "         \"Naive_Bayes\", \"QDA\", \"SGD\"]\n",
    "\n",
    "classifiers = [\n",
    "    KNeighborsClassifier(3),\n",
    "    SVC(kernel=\"linear\", C=0.025),\n",
    "    SVC(kernel=\"poly\", degree=3, C=0.025),\n",
    "    SVC(kernel=\"rbf\", C=1, gamma=2),\n",
    "    GaussianProcessClassifier(1.0 * RBF(1.0)),\n",
    "    GradientBoostingClassifier(n_estimators=100, learning_rate=1.0),\n",
    "    DecisionTreeClassifier(max_depth=5),\n",
    "    ExtraTreesClassifier(n_estimators=10, min_samples_split=2),\n",
    "    RandomForestClassifier(max_depth=5, n_estimators=100),\n",
    "    MLPClassifier(alpha=1, max_iter=1000),\n",
    "    AdaBoostClassifier(n_estimators=100),\n",
    "    GaussianNB(),\n",
    "    QuadraticDiscriminantAnalysis(),\n",
    "    SGDClassifier(loss=\"hinge\", penalty=\"l2\")]"
   ]
  },
  {
   "cell_type": "code",
   "execution_count": 10,
   "metadata": {},
   "outputs": [
    {
     "name": "stderr",
     "output_type": "stream",
     "text": [
      "/Users/vishaljha/anaconda3/lib/python3.7/site-packages/sklearn/svm/base.py:196: FutureWarning: The default value of gamma will change from 'auto' to 'scale' in version 0.22 to account better for unscaled features. Set gamma explicitly to 'auto' or 'scale' to avoid this warning.\n",
      "  \"avoid this warning.\", FutureWarning)\n",
      "/Users/vishaljha/anaconda3/lib/python3.7/site-packages/sklearn/linear_model/stochastic_gradient.py:166: FutureWarning: max_iter and tol parameters have been added in SGDClassifier in 0.19. If both are left unset, they default to max_iter=5 and tol=None. If tol is not None, max_iter defaults to max_iter=1000. From 0.21, default max_iter will be 1000, and default tol will be 1e-3.\n",
      "  FutureWarning)\n"
     ]
    }
   ],
   "source": [
    "scores = [ ]\n",
    "\n",
    "for name, clf in zip(names,classifiers):\n",
    "    clf.fit(X_train,Y_train)\n",
    "    score = clf.score(X_test,Y_test)\n",
    "    scores.append(score)"
   ]
  },
  {
   "cell_type": "code",
   "execution_count": 11,
   "metadata": {},
   "outputs": [
    {
     "data": {
      "text/plain": [
       "[0.81,\n",
       " 0.805,\n",
       " 0.81,\n",
       " 0.76,\n",
       " 0.845,\n",
       " 0.81,\n",
       " 0.815,\n",
       " 0.785,\n",
       " 0.835,\n",
       " 0.845,\n",
       " 0.83,\n",
       " 0.815,\n",
       " 0.805,\n",
       " 0.795]"
      ]
     },
     "execution_count": 11,
     "metadata": {},
     "output_type": "execute_result"
    }
   ],
   "source": [
    "scores"
   ]
  },
  {
   "cell_type": "code",
   "execution_count": 12,
   "metadata": {},
   "outputs": [],
   "source": [
    "import pandas as pd\n",
    "import seaborn as sns"
   ]
  },
  {
   "cell_type": "code",
   "execution_count": 13,
   "metadata": {},
   "outputs": [
    {
     "data": {
      "text/html": [
       "<div>\n",
       "<style scoped>\n",
       "    .dataframe tbody tr th:only-of-type {\n",
       "        vertical-align: middle;\n",
       "    }\n",
       "\n",
       "    .dataframe tbody tr th {\n",
       "        vertical-align: top;\n",
       "    }\n",
       "\n",
       "    .dataframe thead th {\n",
       "        text-align: right;\n",
       "    }\n",
       "</style>\n",
       "<table border=\"1\" class=\"dataframe\">\n",
       "  <thead>\n",
       "    <tr style=\"text-align: right;\">\n",
       "      <th></th>\n",
       "      <th>name</th>\n",
       "      <th>scores</th>\n",
       "    </tr>\n",
       "  </thead>\n",
       "  <tbody>\n",
       "    <tr>\n",
       "      <th>0</th>\n",
       "      <td>Nearest_Neighbors</td>\n",
       "      <td>0.810</td>\n",
       "    </tr>\n",
       "    <tr>\n",
       "      <th>1</th>\n",
       "      <td>Linear_SVM</td>\n",
       "      <td>0.805</td>\n",
       "    </tr>\n",
       "    <tr>\n",
       "      <th>2</th>\n",
       "      <td>Polynomial_SVM</td>\n",
       "      <td>0.810</td>\n",
       "    </tr>\n",
       "    <tr>\n",
       "      <th>3</th>\n",
       "      <td>RBF_SVM</td>\n",
       "      <td>0.760</td>\n",
       "    </tr>\n",
       "    <tr>\n",
       "      <th>4</th>\n",
       "      <td>Gaussian_Process</td>\n",
       "      <td>0.845</td>\n",
       "    </tr>\n",
       "    <tr>\n",
       "      <th>5</th>\n",
       "      <td>Gradient_Boosting</td>\n",
       "      <td>0.810</td>\n",
       "    </tr>\n",
       "    <tr>\n",
       "      <th>6</th>\n",
       "      <td>Decision_Tree</td>\n",
       "      <td>0.815</td>\n",
       "    </tr>\n",
       "    <tr>\n",
       "      <th>7</th>\n",
       "      <td>Extra_Trees</td>\n",
       "      <td>0.785</td>\n",
       "    </tr>\n",
       "    <tr>\n",
       "      <th>8</th>\n",
       "      <td>Random_Forest</td>\n",
       "      <td>0.835</td>\n",
       "    </tr>\n",
       "    <tr>\n",
       "      <th>9</th>\n",
       "      <td>Neural_Net</td>\n",
       "      <td>0.845</td>\n",
       "    </tr>\n",
       "    <tr>\n",
       "      <th>10</th>\n",
       "      <td>AdaBoost</td>\n",
       "      <td>0.830</td>\n",
       "    </tr>\n",
       "    <tr>\n",
       "      <th>11</th>\n",
       "      <td>Naive_Bayes</td>\n",
       "      <td>0.815</td>\n",
       "    </tr>\n",
       "    <tr>\n",
       "      <th>12</th>\n",
       "      <td>QDA</td>\n",
       "      <td>0.805</td>\n",
       "    </tr>\n",
       "    <tr>\n",
       "      <th>13</th>\n",
       "      <td>SGD</td>\n",
       "      <td>0.795</td>\n",
       "    </tr>\n",
       "  </tbody>\n",
       "</table>\n",
       "</div>"
      ],
      "text/plain": [
       "                 name  scores\n",
       "0   Nearest_Neighbors   0.810\n",
       "1          Linear_SVM   0.805\n",
       "2      Polynomial_SVM   0.810\n",
       "3             RBF_SVM   0.760\n",
       "4    Gaussian_Process   0.845\n",
       "5   Gradient_Boosting   0.810\n",
       "6       Decision_Tree   0.815\n",
       "7         Extra_Trees   0.785\n",
       "8       Random_Forest   0.835\n",
       "9          Neural_Net   0.845\n",
       "10           AdaBoost   0.830\n",
       "11        Naive_Bayes   0.815\n",
       "12                QDA   0.805\n",
       "13                SGD   0.795"
      ]
     },
     "execution_count": 13,
     "metadata": {},
     "output_type": "execute_result"
    }
   ],
   "source": [
    "df = pd.DataFrame()\n",
    "df['name'] = names\n",
    "df['scores'] = scores\n",
    "df"
   ]
  },
  {
   "cell_type": "code",
   "execution_count": 14,
   "metadata": {},
   "outputs": [
    {
     "data": {
      "text/html": [
       "<style  type=\"text/css\" >\n",
       "    #T_06f8b186_e191_11ea_85b9_ac87a320897erow0_col1 {\n",
       "            background-color:  #5eb45e;\n",
       "            color:  #000000;\n",
       "        }    #T_06f8b186_e191_11ea_85b9_ac87a320897erow1_col1 {\n",
       "            background-color:  #6cbc6c;\n",
       "            color:  #000000;\n",
       "        }    #T_06f8b186_e191_11ea_85b9_ac87a320897erow2_col1 {\n",
       "            background-color:  #5eb45e;\n",
       "            color:  #000000;\n",
       "        }    #T_06f8b186_e191_11ea_85b9_ac87a320897erow3_col1 {\n",
       "            background-color:  #e5ffe5;\n",
       "            color:  #000000;\n",
       "        }    #T_06f8b186_e191_11ea_85b9_ac87a320897erow4_col1 {\n",
       "            background-color:  #008000;\n",
       "            color:  #f1f1f1;\n",
       "        }    #T_06f8b186_e191_11ea_85b9_ac87a320897erow5_col1 {\n",
       "            background-color:  #5eb45e;\n",
       "            color:  #000000;\n",
       "        }    #T_06f8b186_e191_11ea_85b9_ac87a320897erow6_col1 {\n",
       "            background-color:  #51ad51;\n",
       "            color:  #000000;\n",
       "        }    #T_06f8b186_e191_11ea_85b9_ac87a320897erow7_col1 {\n",
       "            background-color:  #a2daa2;\n",
       "            color:  #000000;\n",
       "        }    #T_06f8b186_e191_11ea_85b9_ac87a320897erow8_col1 {\n",
       "            background-color:  #1b8f1b;\n",
       "            color:  #000000;\n",
       "        }    #T_06f8b186_e191_11ea_85b9_ac87a320897erow9_col1 {\n",
       "            background-color:  #008000;\n",
       "            color:  #f1f1f1;\n",
       "        }    #T_06f8b186_e191_11ea_85b9_ac87a320897erow10_col1 {\n",
       "            background-color:  #289628;\n",
       "            color:  #000000;\n",
       "        }    #T_06f8b186_e191_11ea_85b9_ac87a320897erow11_col1 {\n",
       "            background-color:  #51ad51;\n",
       "            color:  #000000;\n",
       "        }    #T_06f8b186_e191_11ea_85b9_ac87a320897erow12_col1 {\n",
       "            background-color:  #6cbc6c;\n",
       "            color:  #000000;\n",
       "        }    #T_06f8b186_e191_11ea_85b9_ac87a320897erow13_col1 {\n",
       "            background-color:  #87cb87;\n",
       "            color:  #000000;\n",
       "        }</style><table id=\"T_06f8b186_e191_11ea_85b9_ac87a320897e\" ><thead>    <tr>        <th class=\"blank level0\" ></th>        <th class=\"col_heading level0 col0\" >name</th>        <th class=\"col_heading level0 col1\" >scores</th>    </tr></thead><tbody>\n",
       "                <tr>\n",
       "                        <th id=\"T_06f8b186_e191_11ea_85b9_ac87a320897elevel0_row0\" class=\"row_heading level0 row0\" >0</th>\n",
       "                        <td id=\"T_06f8b186_e191_11ea_85b9_ac87a320897erow0_col0\" class=\"data row0 col0\" >Nearest_Neighbors</td>\n",
       "                        <td id=\"T_06f8b186_e191_11ea_85b9_ac87a320897erow0_col1\" class=\"data row0 col1\" >0.81</td>\n",
       "            </tr>\n",
       "            <tr>\n",
       "                        <th id=\"T_06f8b186_e191_11ea_85b9_ac87a320897elevel0_row1\" class=\"row_heading level0 row1\" >1</th>\n",
       "                        <td id=\"T_06f8b186_e191_11ea_85b9_ac87a320897erow1_col0\" class=\"data row1 col0\" >Linear_SVM</td>\n",
       "                        <td id=\"T_06f8b186_e191_11ea_85b9_ac87a320897erow1_col1\" class=\"data row1 col1\" >0.805</td>\n",
       "            </tr>\n",
       "            <tr>\n",
       "                        <th id=\"T_06f8b186_e191_11ea_85b9_ac87a320897elevel0_row2\" class=\"row_heading level0 row2\" >2</th>\n",
       "                        <td id=\"T_06f8b186_e191_11ea_85b9_ac87a320897erow2_col0\" class=\"data row2 col0\" >Polynomial_SVM</td>\n",
       "                        <td id=\"T_06f8b186_e191_11ea_85b9_ac87a320897erow2_col1\" class=\"data row2 col1\" >0.81</td>\n",
       "            </tr>\n",
       "            <tr>\n",
       "                        <th id=\"T_06f8b186_e191_11ea_85b9_ac87a320897elevel0_row3\" class=\"row_heading level0 row3\" >3</th>\n",
       "                        <td id=\"T_06f8b186_e191_11ea_85b9_ac87a320897erow3_col0\" class=\"data row3 col0\" >RBF_SVM</td>\n",
       "                        <td id=\"T_06f8b186_e191_11ea_85b9_ac87a320897erow3_col1\" class=\"data row3 col1\" >0.76</td>\n",
       "            </tr>\n",
       "            <tr>\n",
       "                        <th id=\"T_06f8b186_e191_11ea_85b9_ac87a320897elevel0_row4\" class=\"row_heading level0 row4\" >4</th>\n",
       "                        <td id=\"T_06f8b186_e191_11ea_85b9_ac87a320897erow4_col0\" class=\"data row4 col0\" >Gaussian_Process</td>\n",
       "                        <td id=\"T_06f8b186_e191_11ea_85b9_ac87a320897erow4_col1\" class=\"data row4 col1\" >0.845</td>\n",
       "            </tr>\n",
       "            <tr>\n",
       "                        <th id=\"T_06f8b186_e191_11ea_85b9_ac87a320897elevel0_row5\" class=\"row_heading level0 row5\" >5</th>\n",
       "                        <td id=\"T_06f8b186_e191_11ea_85b9_ac87a320897erow5_col0\" class=\"data row5 col0\" >Gradient_Boosting</td>\n",
       "                        <td id=\"T_06f8b186_e191_11ea_85b9_ac87a320897erow5_col1\" class=\"data row5 col1\" >0.81</td>\n",
       "            </tr>\n",
       "            <tr>\n",
       "                        <th id=\"T_06f8b186_e191_11ea_85b9_ac87a320897elevel0_row6\" class=\"row_heading level0 row6\" >6</th>\n",
       "                        <td id=\"T_06f8b186_e191_11ea_85b9_ac87a320897erow6_col0\" class=\"data row6 col0\" >Decision_Tree</td>\n",
       "                        <td id=\"T_06f8b186_e191_11ea_85b9_ac87a320897erow6_col1\" class=\"data row6 col1\" >0.815</td>\n",
       "            </tr>\n",
       "            <tr>\n",
       "                        <th id=\"T_06f8b186_e191_11ea_85b9_ac87a320897elevel0_row7\" class=\"row_heading level0 row7\" >7</th>\n",
       "                        <td id=\"T_06f8b186_e191_11ea_85b9_ac87a320897erow7_col0\" class=\"data row7 col0\" >Extra_Trees</td>\n",
       "                        <td id=\"T_06f8b186_e191_11ea_85b9_ac87a320897erow7_col1\" class=\"data row7 col1\" >0.785</td>\n",
       "            </tr>\n",
       "            <tr>\n",
       "                        <th id=\"T_06f8b186_e191_11ea_85b9_ac87a320897elevel0_row8\" class=\"row_heading level0 row8\" >8</th>\n",
       "                        <td id=\"T_06f8b186_e191_11ea_85b9_ac87a320897erow8_col0\" class=\"data row8 col0\" >Random_Forest</td>\n",
       "                        <td id=\"T_06f8b186_e191_11ea_85b9_ac87a320897erow8_col1\" class=\"data row8 col1\" >0.835</td>\n",
       "            </tr>\n",
       "            <tr>\n",
       "                        <th id=\"T_06f8b186_e191_11ea_85b9_ac87a320897elevel0_row9\" class=\"row_heading level0 row9\" >9</th>\n",
       "                        <td id=\"T_06f8b186_e191_11ea_85b9_ac87a320897erow9_col0\" class=\"data row9 col0\" >Neural_Net</td>\n",
       "                        <td id=\"T_06f8b186_e191_11ea_85b9_ac87a320897erow9_col1\" class=\"data row9 col1\" >0.845</td>\n",
       "            </tr>\n",
       "            <tr>\n",
       "                        <th id=\"T_06f8b186_e191_11ea_85b9_ac87a320897elevel0_row10\" class=\"row_heading level0 row10\" >10</th>\n",
       "                        <td id=\"T_06f8b186_e191_11ea_85b9_ac87a320897erow10_col0\" class=\"data row10 col0\" >AdaBoost</td>\n",
       "                        <td id=\"T_06f8b186_e191_11ea_85b9_ac87a320897erow10_col1\" class=\"data row10 col1\" >0.83</td>\n",
       "            </tr>\n",
       "            <tr>\n",
       "                        <th id=\"T_06f8b186_e191_11ea_85b9_ac87a320897elevel0_row11\" class=\"row_heading level0 row11\" >11</th>\n",
       "                        <td id=\"T_06f8b186_e191_11ea_85b9_ac87a320897erow11_col0\" class=\"data row11 col0\" >Naive_Bayes</td>\n",
       "                        <td id=\"T_06f8b186_e191_11ea_85b9_ac87a320897erow11_col1\" class=\"data row11 col1\" >0.815</td>\n",
       "            </tr>\n",
       "            <tr>\n",
       "                        <th id=\"T_06f8b186_e191_11ea_85b9_ac87a320897elevel0_row12\" class=\"row_heading level0 row12\" >12</th>\n",
       "                        <td id=\"T_06f8b186_e191_11ea_85b9_ac87a320897erow12_col0\" class=\"data row12 col0\" >QDA</td>\n",
       "                        <td id=\"T_06f8b186_e191_11ea_85b9_ac87a320897erow12_col1\" class=\"data row12 col1\" >0.805</td>\n",
       "            </tr>\n",
       "            <tr>\n",
       "                        <th id=\"T_06f8b186_e191_11ea_85b9_ac87a320897elevel0_row13\" class=\"row_heading level0 row13\" >13</th>\n",
       "                        <td id=\"T_06f8b186_e191_11ea_85b9_ac87a320897erow13_col0\" class=\"data row13 col0\" >SGD</td>\n",
       "                        <td id=\"T_06f8b186_e191_11ea_85b9_ac87a320897erow13_col1\" class=\"data row13 col1\" >0.795</td>\n",
       "            </tr>\n",
       "    </tbody></table>"
      ],
      "text/plain": [
       "<pandas.io.formats.style.Styler at 0x7f875fc7fa58>"
      ]
     },
     "execution_count": 14,
     "metadata": {},
     "output_type": "execute_result"
    }
   ],
   "source": [
    "cm = sns.light_palette(\"green\", as_cmap=True)\n",
    "s = df.style.background_gradient(cmap=cm)\n",
    "s"
   ]
  },
  {
   "cell_type": "code",
   "execution_count": 15,
   "metadata": {},
   "outputs": [
    {
     "data": {
      "image/png": "[encoded data removed]",
      "text/plain": [
       "<Figure size 432x288 with 1 Axes>"
      ]
     },
     "metadata": {},
     "output_type": "display_data"
    }
   ],
   "source": [
    "sns.set(style = \"whitegrid\")\n",
    "ax = sns.barplot(y = \"name\",x = \"scores\",data = df)"
   ]
  }
 ],
 "metadata": {
  "kernelspec": {
   "display_name": "Python 3",
   "language": "python",
   "name": "python3"
  },
  "language_info": {
   "codemirror_mode": {
    "name": "ipython",
    "version": 3
   },
   "file_extension": ".py",
   "mimetype": "text/x-python",
   "name": "python",
   "nbconvert_exporter": "python",
   "pygments_lexer": "ipython3",
   "version": "3.7.3"
  }
 },
 "nbformat": 4,
 "nbformat_minor": 2
}
